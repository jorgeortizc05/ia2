{
 "cells": [
  {
   "cell_type": "markdown",
   "metadata": {},
   "source": [
    "# RED ADALINE\n",
    "* Introduccion\n",
    "> Adaline (Adaptative Linear Element) es un tipo de red neuronal artificial desarrollada por el profesor Bernard Windrow y Marcian E. Hoff en 1960. \n",
    "Windrow se concentró en proceso de señales adaptativas, sistemas de control adaptativo y redes neuronales adaptativas, es decir sistemas que tienen la capacidad de aprender y mejorar su comportamiento mediante el contacto con el entorno.\n",
    "\n",
    "* Caracteristicas\n",
    "\n",
    "    1. Adaline se diferencia del perceptor simple principalmente porque está compuesta por una sola neurona.\n",
    "    2. Su función de transferencia es lineal o pureline.\n",
    "    3. Procesamiento de información analógica, tanto de entrada como de salida utilizando la función de activación lineal o sigmoidal.\n",
    "    4. Resuelve problemas linealmente separables.\n",
    "\n",
    "* Arquitectura de la red\n",
    "\n",
    "Constan de un solo neurona con una capa de entrada y sólo una salida.\n",
    "\n",
    "Figura 1. Arquitectura Red Adaline\n",
    "![titulo](ia1.png)\n",
    "\n",
    "    * Los valores X1, x2 … Xn son las entradas de la neurona.\n",
    "    * Los valores de W1, W2, …. Wn son los pesos asociados a las entradas.\n",
    "    * Y el valor del lumbral de activación esta definido por θ.\n",
    "    \n",
    "La funcion de activacion esta dada por:\n",
    "![titulo](adaline2.png)\n",
    "\n",
    "* Reglas de Aprendizaje\n",
    "\n",
    "El algoritmo de aprendizaje que aplica es el de la regla del mínimo error, cuadrado medio (LMS) o regla de Windrow-Hoff.\n",
    "![titulo](adaline3.png)\n",
    "La manera de reducir este error global es ir modificando los valores de los pesos al procesar cada entrada, de forma iterativa, mediante la regla del descenso del gradiente. Suponiendo que tenemos una constante de aprendizaje alfa:\n",
    "![titulo](adaline4.png)\n",
    "Que será la expresión que utilizaremos por cada entrada para modificar los pesos. El proceso de formación ajusta los pesos asociados con cada entrada, para minimizar el error entre las salidas obtenidos y las salidas deseadas. Por lo tanto, se espera la neurona \"aprender\" sobre el problema y puede tomar decisiones por otros casos de las entradas que no se presentaron durante el entrenamiento.\n",
    "\n",
    "* Algoritmo\n",
    "\n",
    "    1. Inicialización de los pesos\n",
    "    2. Se aplica un patrón de entras y salidas deseadas\n",
    "    3. Se computa la salida lineal que se obtiene de la red\n",
    "    4. Se calcula el error cometido para dicho patrón\n",
    "    5. Se actualiza las conexiones mediante la ecuación obtenida anteriormente\n",
    "    6. Se repite los pasos del 2-5 para todos los patrones de entrenamiento\n",
    "    7. Si el error cuadrático es un valor reducido aceptable termina el proceso sino regresa al paso 2\n",
    "    \n",
    "* Ejercio.\n",
    "El ejemplo es proporcionado por betch, 2018. Recuperado de: https://www.youtube.com/watch?v=0xnN_yf6FbU\n",
    "\n",
    "\n",
    "\n"
   ]
  },
  {
   "cell_type": "code",
   "execution_count": 1,
   "metadata": {
    "collapsed": false
   },
   "outputs": [
    {
     "data": {
      "text/html": [
       "<iframe src=Adaline.pdf width=500 height=500></iframe>"
      ],
      "text/latex": [
       "\\includegraphics[width=1.0\\textwidth]{Adaline.pdf}"
      ],
      "text/plain": [
       "<__main__.PDF at 0x7f3a4841f940>"
      ]
     },
     "execution_count": 1,
     "metadata": {},
     "output_type": "execute_result"
    }
   ],
   "source": [
    "class PDF(object):\n",
    "  def __init__(self, pdf, size=(200,200)):\n",
    "    self.pdf = pdf\n",
    "    self.size = size\n",
    "\n",
    "  def _repr_html_(self):\n",
    "    return '<iframe src={0} width={1[0]} height={1[1]}></iframe>'.format(self.pdf, self.size)\n",
    "\n",
    "  def _repr_latex_(self):\n",
    "    return r'\\includegraphics[width=1.0\\textwidth]{{{0}}}'.format(self.pdf)\n",
    "PDF('Adaline.pdf',size=(500,500))"
   ]
  },
  {
   "cell_type": "markdown",
   "metadata": {},
   "source": [
    "Ejercicio a mano\n",
    "![titulo](ejer1.jpeg)\n",
    "![titulo](ejer2.jpeg)"
   ]
  },
  {
   "cell_type": "markdown",
   "metadata": {},
   "source": [
    "* Referencias.\n",
    "\n",
    "    * López, R. F., & Fernandez, J. M. F. (2008). Las redes neuronales artificiales. Netbiblo.\n",
    "    * Osiro, L., Lima, R. H. P., Junior, F. R. L., & Carpinetti, L. C. R. (2013). PROPOSTA DE USO DE REDES NEURAIS     * ARTIFICIAIS EM UMA MATRIZ DE PORTFÓLIO DE COMPRAS. XXXIII Encontro Nacional de Engenharia de Producao, Salvador, Bahia, Brasil.\n",
    "    * Salavert, I. R., & Graciani, M. A. F. (1995). Vida artificial (Vol. 10). Univ de Castilla La Mancha.\n",
    "    * Betch, 2018. Adaline Algorithm with Solved example. Recuperado de: https://www.youtube.com/watch?v=0xnN_yf6FbU"
   ]
  }
 ],
 "metadata": {
  "kernelspec": {
   "display_name": "python 3.4-IA",
   "language": "python",
   "name": "entornoia"
  },
  "language_info": {
   "codemirror_mode": {
    "name": "ipython",
    "version": 3
   },
   "file_extension": ".py",
   "mimetype": "text/x-python",
   "name": "python",
   "nbconvert_exporter": "python",
   "pygments_lexer": "ipython3",
   "version": "3.4.5"
  }
 },
 "nbformat": 4,
 "nbformat_minor": 2
}
