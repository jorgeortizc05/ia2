{
 "cells": [
  {
   "cell_type": "markdown",
   "metadata": {},
   "source": [
    "<img src=\"logo-catedra.png\" width=\"400\"> <img src=\"Logo-GIIATa-small.png\" width=\"100\"> \n",
    "<div style=\"text-align: right\"> _Por: V. Robles B._ </div>\n",
    "\n",
    "# Redes Neuronales con Scikit-Learn: una introducción - Parte 1\n",
    "\n",
    "En este cuaderno se presenta una breve introducción de los principales aspectos para crear, entrenar y validar redes neuronales artificiales en Python con la librería [scikit-learn](http://scikit-learn.org/stable/index.html). A lo largo del cuaderno se hará especial énfasis en el **Perceptrón multicapa** como herramienta para realizar tareas de clasificación.\n",
    "\n",
    "Como primer punto, es importante verificar que tengamos todos las librerías instaladas. \n",
    "\n",
    "## Prerrequisitos:\n",
    "\n",
    "A fin de poder ejecutar las instrucciones de este cuaderno, debemos verificar que tengamos instaladas las siguientes librerías:\n",
    "\n",
    "* Python (versiones >=2.7 o >=3.3)\n",
    "* [Numpy >= 1.8.2](http://www.numpy.org/)\n",
    "* [SciPy >= 0.13.3](https://www.scipy.org/)\n",
    "\n",
    "## Instalación:\n",
    "La instalación de **scikit-learn** se puede realizar de manera sencilla a través del siguiente comando:\n",
    "\n",
    "    pip install -U scikit-learn\n",
    "    \n",
    "Donde la opción **-U** indica que si existe el paquete, deberá actualizarse a la última versión estable existente.\n",
    "\n",
    "De igual forma, si se desean mayores detalles, es factible consultar el siguiente [enlace](http://scikit-learn.org/stable/install.html).\n",
    "\n",
    "## Ejemplo básico 1: compuerta XOR\n",
    "Como se conoce, el perceptrón simple (de una sola neurona y una sola capa) no es capaz de resolver problemas que no sean separables linealmente.\n",
    "\n",
    "Por ello, en esta sección aprenderemos cómo resolver un el sencillo problema de la compuerta XOR (que no es separable linealmente). Comencemos!\n",
    "\n",
    "### Corpus\n",
    "Para entrenar la red, debemos tener claro en primer lugar, cuáles son las entradas y salidas que nuestra red neuronal deberá aprender. En la siguiente tabla se puede apreciar los patrones de entrada (donde cada patrón está conformado por dos entradas $x_{1}$ y $x_{2}$), y las correspondientes etiquetas o salidas ($\\delta$).\n",
    "\n",
    "\n",
    "| $x_{1}$| $x_{2}$| $\\delta$  |\n",
    "| ------------- |-------------| -----|\n",
    "| 0|0 |0|\n",
    "| 0|1 |1|\n",
    "| 1|0 |1|\n",
    "| 1|1 |0|\n",
    "\n",
    "A continuación visualizamos los patrones que se desea que aprenda nuestra red:\n",
    "\n"
   ]
  },
  {
   "cell_type": "code",
   "execution_count": 1,
   "metadata": {
    "collapsed": false
   },
   "outputs": [
    {
     "name": "stdout",
     "output_type": "stream",
     "text": [
      "[[0 0]\n",
      " [0 1]\n",
      " [1 0]\n",
      " [1 1]]\n"
     ]
    },
    {
     "data": {
      "image/png": "[encoded data removed]",
      "text/plain": [
       "<matplotlib.figure.Figure at 0x7fea7288fa90>"
      ]
     },
     "metadata": {},
     "output_type": "display_data"
    }
   ],
   "source": [
    "import matplotlib.pyplot as pp\n",
    "import numpy as np\n",
    "\n",
    "%matplotlib inline\n",
    "\n",
    "x=np.array([[0,0],[0,1],[1,0],[1,1]])\n",
    "d=np.array([0,1,1,0])\n",
    "\n",
    "print(x)\n",
    "\n",
    "pp.scatter(x[:,0],x[:,1],color=['blue' if i==1 else 'red' for i in d])\n",
    "\n",
    "pp.grid(True)\n",
    "pp.show()"
   ]
  },
  {
   "cell_type": "markdown",
   "metadata": {},
   "source": [
    "Como se puede apreciar, no es posible separar con una sola línea los puntos azules (que indican que la red debería devolver un valor de $1$ en esos casos) de los puntos rojos.\n",
    "\n",
    "Por ello, ahora vamos a crear una red multicapa que tendrá la siguiente estructura:\n",
    "\n",
    "* Número de entradas = 2\n",
    "* Total de capas = 2\n",
    "* Neuronas en la capa oculta = 4\n",
    "* Salidas = 1\n",
    "\n",
    "Si deseamos visualizar la **estructura** de nuestra red neuronal, podemos emplear el paquete [viznet](http://viznet.readthedocs.io/en/latest/tutorials.html). Es importante observar que en **THE ASIMOV INSTITUTE** existe una completa descripción gráfica de la estructura de los diferentes tipos de redes neuronales: [The Neural Network Zoo](http://www.asimovinstitute.org/neural-network-zoo/) [3]."
   ]
  },
  {
   "cell_type": "code",
   "execution_count": 2,
   "metadata": {
    "collapsed": false
   },
   "outputs": [
    {
     "ename": "SyntaxError",
     "evalue": "only named arguments may follow *expression (brush.py, line 384)",
     "output_type": "error",
     "traceback": [
      "\u001b[0;36m  File \u001b[0;32m\"/home/jorge/anaconda3/envs/ia2/lib/python3.4/site-packages/viznet/brush.py\"\u001b[0;36m, line \u001b[0;32m384\u001b[0m\n\u001b[0;31m    obj = plt.arrow(*mxy, 1e-8 * dx, 1e-8 * dy,\u001b[0m\n\u001b[0m                         ^\u001b[0m\n\u001b[0;31mSyntaxError\u001b[0m\u001b[0;31m:\u001b[0m only named arguments may follow *expression\n"
     ]
    }
   ],
   "source": [
    "from viznet import connecta2a, node_sequence, NodeBrush, EdgeBrush, DynamicShow\n",
    "\n",
    "# Creamos variables con los parametros que tendra la red\n",
    "entradas = 2\n",
    "neuronas_capa_oculta = 4\n",
    "neuronas_capa_salida = 1\n",
    "\n",
    "\n",
    "def dibujar_red_neuronal(ax, num_node_list):\n",
    "\n",
    "    num_hidden_layer = len(num_node_list) - 2\n",
    "    token_list = ['\\sigma^z'] + \\\n",
    "        ['y^{(%s)}' % (i + 1) for i in range(num_hidden_layer)] + ['\\psi']\n",
    "    kind_list = ['nn.input'] + ['nn.hidden'] * num_hidden_layer + ['nn.output']\n",
    "    radius_list = [0.3] + [0.2] * num_hidden_layer + [0.3]\n",
    "    y_list = 1.5 * np.arange(len(num_node_list))\n",
    "\n",
    "    seq_list = []\n",
    "    for n, kind, radius, y in zip(num_node_list, kind_list, radius_list, y_list):\n",
    "        b = NodeBrush(kind, ax)\n",
    "        seq_list.append(node_sequence(b, n, center=(0, y)))\n",
    "\n",
    "    eb = EdgeBrush('-->', ax)\n",
    "    for st, et in zip(seq_list[:-1], seq_list[1:]):\n",
    "        connecta2a(st, et, eb)\n",
    "\n",
    "\n",
    "def real_bp():\n",
    "    with DynamicShow((6, 6), '_feed_forward.png') as d:\n",
    "        dibujar_red_neuronal(d.ax, num_node_list=[entradas, neuronas_capa_oculta, neuronas_capa_salida])\n",
    "\n",
    "\n",
    "real_bp()"
   ]
  },
  {
   "cell_type": "markdown",
   "metadata": {},
   "source": [
    "A continuación emplearemos **sckikit learn** para crear, entrenar y probar la red neuronal [MLPClassifier](http://scikit-learn.org/stable/modules/generated/sklearn.neural_network.MLPClassifier.html) que se especificó con anterioridad. Los parámetros que se usarán son los siguientes:\n",
    "\n",
    "* Algoritmo para la reducción del error en el entrenamiento: **lbfgs** optimizador basado en métodos cuasi-Newtonianos. Mayor información en este [link](https://en.wikipedia.org/wiki/Limited-memory_BFGS).\n",
    "* Función de activación de las neuronas: **logística** (_logistic_)\n",
    "* Máximo número de iteraciones (*max_iter*): 10000\n"
   ]
  },
  {
   "cell_type": "code",
   "execution_count": 3,
   "metadata": {
    "collapsed": false
   },
   "outputs": [
    {
     "name": "stdout",
     "output_type": "stream",
     "text": [
      "MLPClassifier(activation='logistic', alpha=0.0001, batch_size='auto',\n",
      "       beta_1=0.9, beta_2=0.999, early_stopping=False, epsilon=1e-08,\n",
      "       hidden_layer_sizes=(4, 1), learning_rate='constant',\n",
      "       learning_rate_init=0.001, max_iter=10000, momentum=0.9,\n",
      "       nesterovs_momentum=True, power_t=0.5, random_state=None,\n",
      "       shuffle=True, solver='lbfgs', tol=1e-15, validation_fraction=0.1,\n",
      "       verbose=True, warm_start=False)\n",
      "Pesos W^(0): \n",
      ": [[  4.40043640e+00   4.30316129e-03  -3.90679033e-03   4.39814499e+00]\n",
      " [ -4.40363607e+00   6.66980554e-03   1.90572475e-04  -4.40372914e+00]]\n",
      "\n",
      "Pesos W^(1): \n",
      ": [[  7.17110215e+00]\n",
      " [ -5.47759765e-03]\n",
      " [ -1.93572758e-04]\n",
      " [ -7.17166047e+00]]\n",
      "\n",
      "Prueba con { 0|0 } =>  [0]\n",
      "\n",
      "Prueba con { 0|1 } =>  [1]\n",
      "\n",
      "Prueba con { 1|0 } =>  [1]\n",
      "\n",
      "Prueba con { 1|1 } =>  [0]\n"
     ]
    }
   ],
   "source": [
    "# Importamos el Perceptron Multicapa para Clasificacion\n",
    "from sklearn.neural_network import MLPClassifier\n",
    "\n",
    "# Creamos variables con los parametros que tendra la red\n",
    "entradas = 2\n",
    "neuronas_capa_oculta = 4\n",
    "neuronas_capa_salida = 1\n",
    "\n",
    "# Creamos la red neuronal\n",
    "mlp=MLPClassifier(solver = 'lbfgs', activation='logistic', verbose=True, alpha=1e-4, tol=1e-15, max_iter=10000, \\\n",
    "                  hidden_layer_sizes=(neuronas_capa_oculta, neuronas_capa_salida))\n",
    "\n",
    "print(mlp)\n",
    "# Realizamos el proceso de entrenamiento\n",
    "mlp.fit(x,d)\n",
    "\n",
    "# Mostramos los pesos entre la entrada y la capa oculta\n",
    "print('Pesos W^(0): \\n:',mlp.coefs_[0])\n",
    "\n",
    "# Mostramos los pesos entre la capa oculta y la capa de salida\n",
    "print('\\nPesos W^(1): \\n:',mlp.coefs_[1])\n",
    "\n",
    "# Probamos si la red devuelve valores apropiados de acuerdo a las entradas (test):\n",
    "for entrada in x:\n",
    "    print('\\nPrueba con {','|'.join([str(i) for i in entrada]),'} => ',mlp.predict(entrada.reshape(1,-1)))"
   ]
  },
  {
   "cell_type": "markdown",
   "metadata": {},
   "source": [
    "### Práctica ANN-0:\n",
    "\n",
    "Modifique el código anterior, a fin de usar [Hot Encoding](https://www.quora.com/What-is-one-hot-encoding-and-when-is-it-used-in-data-science) y contar con 2 salidas en lugar de 1."
   ]
  },
  {
   "cell_type": "code",
   "execution_count": 4,
   "metadata": {
    "collapsed": false
   },
   "outputs": [
    {
     "name": "stdout",
     "output_type": "stream",
     "text": [
      "MLPClassifier(activation='logistic', alpha=0.0001, batch_size='auto',\n",
      "       beta_1=0.9, beta_2=0.999, early_stopping=False, epsilon=1e-08,\n",
      "       hidden_layer_sizes=(4, 2), learning_rate='constant',\n",
      "       learning_rate_init=0.001, max_iter=10000, momentum=0.9,\n",
      "       nesterovs_momentum=True, power_t=0.5, random_state=None,\n",
      "       shuffle=True, solver='lbfgs', tol=1e-15, validation_fraction=0.1,\n",
      "       verbose=False, warm_start=False)\n",
      "Pesos W^(0): \n",
      ": [[  3.18270944e-03   2.53860668e-03  -4.40426920e+00  -4.39901937e+00]\n",
      " [ -7.43927046e-03   1.73675695e-02  -4.40428867e+00  -4.39650363e+00]]\n",
      "\n",
      "Pesos W^(1): \n",
      ": [[  2.12425204e-02  -1.51427893e-03]\n",
      " [  4.57118751e-03   3.66782717e-04]\n",
      " [ -7.17043977e+00   7.89197815e-03]\n",
      " [  7.17389433e+00   7.23297989e-03]]\n",
      "\n",
      "Prueba con { 0|0 } =>  [0]\n",
      "\n",
      "Prueba con { 0|1 } =>  [1]\n",
      "\n",
      "Prueba con { 1|0 } =>  [1]\n",
      "\n",
      "Prueba con { 1|1 } =>  [0]\n"
     ]
    }
   ],
   "source": [
    "# Importamos el Perceptron Multicapa para Clasificacion\n",
    "from sklearn.neural_network import MLPClassifier\n",
    "\n",
    "# TODO:\n",
    "# Modificar las salidas deseadas para representarlas con 2 valores binarios\n",
    "neuronas_capa_salida = 2\n",
    "\n",
    "# Modoficar los parametros de la Red Neuronal. Sustituir None por el valor correspondiente\n",
    "mlp=MLPClassifier(solver = 'lbfgs', activation='logistic', alpha=1e-4, tol=1e-15, max_iter=10000, \\\n",
    "                  hidden_layer_sizes=(neuronas_capa_oculta, neuronas_capa_salida))\n",
    "\n",
    "print(mlp)\n",
    "# Realizamos el proceso de entrenamiento con la nueva representacion de la salida. \n",
    "# Sustituir None por el valor correspondiente:\n",
    "\n",
    "# TODO:\n",
    "\n",
    "mlp.fit(x,d)\n",
    "\n",
    "# Mostramos los pesos entre la entrada y la capa oculta\n",
    "print('Pesos W^(0): \\n:',mlp.coefs_[0])\n",
    "\n",
    "# Mostramos los pesos entre la capa oculta y la capa de salida\n",
    "print('\\nPesos W^(1): \\n:',mlp.coefs_[1])\n",
    "\n",
    "# Probamos si la red devuelve valores apropiados de acuerdo a las entradas (test):\n",
    "for entrada in x:\n",
    "    print('\\nPrueba con {','|'.join([str(i) for i in entrada]),'} => ',mlp.predict(entrada.reshape(1,-1)))"
   ]
  },
  {
   "cell_type": "markdown",
   "metadata": {},
   "source": [
    "### Práctica ANN-1:\n",
    "\n",
    "Genere 1000 puntos aleatorios con coordenadas $(x_{1}, x_{2})$. Con estos puntos, deberá realizar las siguientes tareas:\n",
    "\n",
    "* Seleccionar de forma aleatoria 80% de los puntos para entrenar la red y el restante 20% se empleará para probar la red.\n",
    "* Entrenar la red hasta lograr un error mínimo.\n",
    "* Probar la red y presentar la matriz de [confusión](http://scikit-learn.org/stable/modules/generated/sklearn.metrics.confusion_matrix.html).\n",
    "* Indicar el nivel de [precisión](https://en.wikipedia.org/wiki/Precision_and_recall) (muestras correctamente clasificadas frente al total de muestras):\n",
    "\n",
    "$precision=\\frac{muestras ~~correctamente ~~clasificadas}{total~~ de~~ muestras}$"
   ]
  },
  {
   "cell_type": "markdown",
   "metadata": {},
   "source": [
    "Genere 1000 puntos aleatorios con coordenadas $(x_{1}, x_{2})$."
   ]
  },
  {
   "cell_type": "code",
   "execution_count": 7,
   "metadata": {
    "collapsed": false
   },
   "outputs": [
    {
     "name": "stdout",
     "output_type": "stream",
     "text": [
      "MLPClassifier(activation='logistic', alpha=0.0001, batch_size='auto',\n",
      "       beta_1=0.9, beta_2=0.999, early_stopping=False, epsilon=1e-08,\n",
      "       hidden_layer_sizes=(150, 2), learning_rate='constant',\n",
      "       learning_rate_init=0.001, max_iter=10000, momentum=0.9,\n",
      "       nesterovs_momentum=True, power_t=0.5, random_state=None,\n",
      "       shuffle=True, solver='lbfgs', tol=1e-15, validation_fraction=0.1,\n",
      "       verbose=True, warm_start=False)\n",
      "Matriz de Confusion\n",
      "\n",
      "[[94 56]\n",
      " [86 64]]\n",
      "\n",
      "\n",
      "             precision    recall  f1-score   support\n",
      "\n",
      "          0       0.52      0.63      0.57       150\n",
      "          1       0.53      0.43      0.47       150\n",
      "\n",
      "avg / total       0.53      0.53      0.52       300\n",
      "\n"
     ]
    }
   ],
   "source": [
    "from sklearn.metrics import classification_report, confusion_matrix\n",
    "from sklearn.model_selection import train_test_split\n",
    "from sklearn.neural_network import MLPClassifier\n",
    "import numpy as np\n",
    "import matplotlib.pyplot as pp\n",
    "import random\n",
    "\n",
    "n = 1000\n",
    "coor = [] #Coordenas\n",
    "d = [1 if i % 2 == 0 else 0 for i in range(0, n)]\n",
    "for i in range(0, n):\n",
    "    coor.append([random.random() * 100, random.random() * 100])\n",
    "\n",
    "datos = np.array(coor)\n",
    "\n",
    "X_train, X_test, d_train, d_test = train_test_split(datos,d,train_size=0.70,random_state=0,stratify=d)\n",
    "\n",
    "# Creamos la red neuronal\n",
    "mlp=MLPClassifier(solver = 'lbfgs', activation='logistic', verbose=True, alpha=1e-4, tol=1e-15, max_iter=10000, \\\n",
    "                  hidden_layer_sizes=(150,2))\n",
    "\n",
    "mlp.fit(datos, d)\n",
    "print(mlp)\n",
    "# Realizamos el proceso de entrenamiento\n",
    "mlp.fit(X_train,d_train)\n",
    "\n",
    "prediccion = mlp.predict(x_test)\n",
    "print('Matriz de Confusion\\n')\n",
    "matriz = confusion_matrix(d_test, prediccion)\n",
    "print(confusion_matrix(d_test, prediccion))\n",
    "print('\\n')\n",
    "print(classification_report(d_test, prediccion))\n",
    "\n",
    "\n",
    "\n",
    "\n"
   ]
  },
  {
   "cell_type": "markdown",
   "metadata": {},
   "source": [
    "## Referencias\n",
    "[1] Pedregosa, F., Varoquaux, G., Gramfort, A., Michel, V., Thirion, B., Grisel, O., ... & Vanderplas, J. (2011). Scikit-learn: Machine learning in Python. Journal of machine learning research, 12(Oct), 2825-2830.\n",
    "\n",
    "[2] Portilla, J. (2017). A Beginner’s Guide to Neural Networks in Python and SciKit Learn 0.18. Retrieved from https://www.springboard.com/blog/beginners-guide-neural-network-in-python-scikit-learn-0-18/.\n",
    "\n",
    "[3] The Asimov Institute. (2018). THE NEURAL NETWORK ZOO. Retrived from: http://www.asimovinstitute.org/neural-network-zoo/"
   ]
  }
 ],
 "metadata": {
  "kernelspec": {
   "display_name": "python 3.4-ia2",
   "language": "python",
   "name": "ia2"
  },
  "language_info": {
   "codemirror_mode": {
    "name": "ipython",
    "version": 3
   },
   "file_extension": ".py",
   "mimetype": "text/x-python",
   "name": "python",
   "nbconvert_exporter": "python",
   "pygments_lexer": "ipython3",
   "version": "3.4.5"
  }
 },
 "nbformat": 4,
 "nbformat_minor": 2
}
