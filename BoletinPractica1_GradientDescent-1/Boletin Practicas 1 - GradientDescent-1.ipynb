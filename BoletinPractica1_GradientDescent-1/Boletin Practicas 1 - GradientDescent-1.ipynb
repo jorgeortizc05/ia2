{
 "cells": [
  {
   "cell_type": "markdown",
   "metadata": {},
   "source": [
    "Jorge Ortiz. Inteligencia Artificial. GitHub: https://github.com/jorgeortizc05/ia2\n",
    "\n",
    "## Boletín de prácticas 1 - GradientDescent-1\n",
    "### Objetivos:\n",
    "* Familiarizarse con los principales aspectos y etapas del método de descenso por gradiente.\n",
    "* Conocer y aplicar el método de descenso por gradiente para minimizar funciones sencillas.\n",
    "* Conocer cómo aplicar el proceso de descenso por gradiente de forma automatizada con soporte de **sympy** y **Jupyter Notebook*.\n",
    "\n",
    "### Enunciado:\n",
    "\n",
    "1. Seleccionar una función matemática para realizar el proceso de minimización. Ejecutar al menos **3 pasos** del método de descenso por gradiente. \n",
    "2. Diseñar y desarrollar un cuaderno en Jupyter Notebook donde se realicen todos los pasos correspondientes al proceso de minimización de la función a través del método de descenso por gradiente.\n",
    "3. El cuaderno deberá incluir los siguientes puntos:\n",
    "    1. Gráfica de la función y los puntos que se obtienen a medida que se ejecutan los pasos de cálculo (hasta $k=3$).\n",
    "    2. Aplicación de las funciones de derivación y evaluación de forma similar a la que se ha detallado en el presente cuaderno.\n",
    "    3. Incluir un acápite sobre las funciones cóncavas y los puntos estacionarios (incluir gráficos).\n",
    "    4. Emplear las funcionalidades que proveen los paquetes **matplotlib** y **sympy**.\n",
    "  \n",
    "  \n",
    "### Criterios de evaluación:\n",
    "Los criterios o rúbrica de evaluación del Boletín de Prácticas 1 son los siguientes:\n",
    "1. Adecuada complejidad de la función seleccionada para el proceso de minimización (procurar no usar funciones cóncavas).\n",
    "2. Correcta explicación y detalle de cada paso ejecutado con el método de descenso por gradiente.\n",
    "3. Verificación de la solución encontrada.\n",
    "4. Elementos extra: incluye recta (flecha) con la dirección del gradiente, animaciones, etc.\n",
    "\n",
    "### Prerrequisitos:\n",
    "A fin de poder realizar esta práctica, deberá contar con los siguientes prerrequisitos:\n",
    "1. Haber leído de forma completa el presente cuaderno.\n",
    "2. Tener instalados los siguientes paquetes en su computador:\n",
    "    1. Python 2.7+ (de preferencia 3.6+)\n",
    "    2. [Sympy](http://www.sympy.org)\n",
    "    3. [matplotlib](https://matplotlib.org/)\n",
    "\n",
    "\n",
    "### Detalles de la entrega:\n",
    "El cuaderno de Jupyter Notebook deberá ser cargado en el AVAC con todos los recursos necesarios (imágenes, enlaces, etc.) en un archivo comprimido, dentro de la tarea **Boletín de Prácticas 1: Descenso por gradiente f(x)**. Los detalles de la fecha y hora de entrega se encuentran especificados en el AVAC.\n",
    "\n",
    "\n",
    "### Algunos enlaces de utilidad:\n",
    "A continuación se presentan algunos enlaces que pueden resultar de utilidad:\n",
    "* Wiki con algunas funciones básicas de la librería [sympy](https://github.com/sympy/sympy/wiki/Quick-examples)\n",
    "* Un tutorial interactivo con ejemplos de técnicas de [optimización](http://www.benfrederickson.com/numerical-optimization/)."
   ]
  },
  {
   "cell_type": "markdown",
   "metadata": {},
   "source": [
    "## Ejercicio a realizar\n",
    "\n",
    "Funcion a minimizar\n",
    "\n",
    "$\\frac{1}{5.3}x^{3}-3x+x^{2}-2.37$\n",
    "\n",
    "El valor de punto de partida será $x^{(0)}=5.3$\n",
    "\n",
    "Graficamos la función que se minimizará y el punto de partida:"
   ]
  },
  {
   "cell_type": "code",
   "execution_count": 69,
   "metadata": {
    "collapsed": false
   },
   "outputs": [
    {
     "data": {
      "image/png": "[encoded data removed]",
      "text/plain": [
       "<Figure size 432x288 with 1 Axes>"
      ]
     },
     "metadata": {
      "needs_background": "light"
     },
     "output_type": "display_data"
    }
   ],
   "source": [
    "import matplotlib.pyplot as pp\n",
    "import numpy as np\n",
    "\n",
    "\n",
    "def fx(x):\n",
    "    return np.power(x,3)-2*np.power(x,2)+6*x-10\n",
    "\n",
    "x=np.arange(-10,9.5,0.5)\n",
    "y=fx(x)\n",
    "\n",
    "pp.plot(x,y,c='red')\n",
    "pp.grid(True)\n",
    "pp.show()\n",
    "a = 23"
   ]
  },
  {
   "cell_type": "code",
   "execution_count": 70,
   "metadata": {
    "collapsed": false
   },
   "outputs": [
    {
     "data": {
      "image/png": "[encoded data removed]",
      "text/plain": [
       "<Figure size 432x288 with 1 Axes>"
      ]
     },
     "metadata": {
      "needs_background": "light"
     },
     "output_type": "display_data"
    }
   ],
   "source": [
    "def fx2(x2):\n",
    "    return (1/5.3)*np.power(x2,3)-3*x2+np.power(x2,2)-2.37\n",
    "\n",
    "x2=np.arange(-4,10,0.27)\n",
    "y2=fx2(x2)\n",
    "pp.plot(x2,y2,'r')\n",
    "pp.plot(5.3,fx2(5.3),'bo')\n",
    "pp.grid(True)\n",
    "pp.show()"
   ]
  },
  {
   "cell_type": "markdown",
   "metadata": {},
   "source": [
    "#### Resolución:\n",
    "\n",
    "* Calculamos la derivada de la función y evaluamos su valor en el punto $x^{(0)}$:"
   ]
  },
  {
   "cell_type": "code",
   "execution_count": 71,
   "metadata": {
    "collapsed": false
   },
   "outputs": [
    {
     "name": "stdout",
     "output_type": "stream",
     "text": [
      "Derivada de la funcion:  0.566037735849057*x**2 + 2*x - 3\n",
      "Valor en x^(0): 23.5000000000000\n"
     ]
    }
   ],
   "source": [
    "from sympy import Symbol, Function, diff, solve\n",
    "\n",
    "x=Symbol('x')\n",
    "f=Function('f')(x)\n",
    "x0=5.3\n",
    "\n",
    "fx=(1/5.3)*x**3-3*x+x**2-2.37\n",
    "\n",
    "r=diff(fx)\n",
    "print(\"Derivada de la funcion: \",r)\n",
    "print(\"Valor en x^(0):\",r.subs(x,x0).evalf())"
   ]
  },
  {
   "cell_type": "markdown",
   "metadata": {},
   "source": [
    "Lo que nos da como resultado lo siguiente:\n",
    "\n",
    "$f^{'}(x) = 0.57x^{2}+2x-3$\n",
    "\n",
    "$\\nabla f(x^{(0)}) = 23.50$\n",
    "\n",
    "* A fin de de encontrar el valor de $t^{*}_{0}$ requerido para calcular el siguiente punto $x^{(1)}$, calculamos el valor de la siguiente función:\n",
    "\n",
    " <div style=\"text-align:center\">\n",
    "     $\\theta(t) = f(x^{(0)})-t \\nabla f(x^{(0)})$.\n",
    " </div> \n",
    " \n",
    " <div style=\"text-align:center\">\n",
    "    <br />$\\theta^{'}(t)=-\\nabla f\\left( x^{(0)} - t \\nabla f(x^{(0)} \\right) \\nabla f(x^{(0)})$\n",
    "    <br />$=-\\nabla f\\left( \\mathbf(5.3)-t \\nabla f(x^{0}) \\right) \\nabla f(x^{(0)})$\n",
    "    <br />$=-\\nabla f\\left( \\mathbf(5.3)-23.50\\cdot t \\right) 23.50$\n",
    " </div> \n",
    " \\_       \n",
    "   En este punto, sustituimos $(5.3-23.50\\cdot t)$ por $x$ en la función a minimizar que derivamos previamente $f^{'}(x) = 0.57x^{2}+2x-3$:\n",
    "   \n",
    "<div style=\"text-align:center\">\n",
    "    <br />$=-\\left( 0.57\\cdot(5.3-23.5t)^{2}+2 \\cdot (5.3-23.5t)-3 \\right)\\cdot 23.50$\n",
    "</div>\n",
    "\n",
    "   Aplicamos factoreo a la ecuación y calculamos las raíces:"
   ]
  },
  {
   "cell_type": "code",
   "execution_count": 72,
   "metadata": {
    "collapsed": false
   },
   "outputs": [
    {
     "name": "stdout",
     "output_type": "stream",
     "text": [
      "-314.7825*x**2 + 188.987*x - 23.6113\n",
      "Raices de la ecuacion: [0.177289454026470, 0.423083819583086]\n"
     ]
    }
   ],
   "source": [
    "# Ingresamos la funcion en sympy y buscamos las raices:\n",
    "fp=-((0.57*(5.3-23.5*x)**2+2*(5.3-23.5*x)-3))\n",
    "print(fp.expand())\n",
    "\n",
    "print(\"Raices de la ecuacion:\" ,solve(fp))"
   ]
  },
  {
   "cell_type": "markdown",
   "metadata": {},
   "source": [
    "No realizamos la multiplicación por $23.5$ ya que luego se igualará a $0$, con ello tenemos lo siguiente:\n",
    "   \n",
    "<div style=\"text-align:center\">\n",
    "    <br />$=-\\left( -314.78x^{2}+188.99x-23.6113 \\right)\\cdot 23.5$\n",
    "</div>\n",
    "\n",
    "   Y las raíces de la ecuación representarán 2 posibles valores para $t^{*}_{0}$:\n",
    "\n",
    "<div style=\"text-align:center\">\n",
    "    <br />$\\left[ 0.18, 0.42 \\right]$\n",
    "</div>\n",
    "\n",
    "   Con ello, calculamos los dos posibles puntos $x^{(1)}$ y determinamos con cuál de los 2 se minimiza de mejor forma la función:\n",
    "\n",
    "<div style=\"text-align:center\">   \n",
    "   $\n",
    "       \\begin{split}\n",
    "           x^{(1)}=\\begin{cases}\n",
    "               5.3-0.177\\cdot 23.50~ = & \\mathbf{1.14}\\\\\n",
    "               5.3-0.423\\cdot 23.50~ = & \\mathbf{-4.64}\n",
    "           \\end{cases}\n",
    "       \\end{split}\n",
    "   $\n",
    "</div>\n",
    "\n",
    "   De igual forma, evaluamos la función original con los dos nuevos puntos $x^{(1)}$ y en base a ello determinamos cuál es el que minimiza de mejor manera su valor:"
   ]
  },
  {
   "cell_type": "code",
   "execution_count": 73,
   "metadata": {
    "collapsed": false
   },
   "outputs": [
    {
     "name": "stdout",
     "output_type": "stream",
     "text": [
      "Valores con de la funcion: [-4, 14]\n"
     ]
    }
   ],
   "source": [
    "v1=fx.subs(x,1.14).evalf()\n",
    "v2=fx.subs(x,-4.64).evalf()\n",
    "\n",
    "print(\"Valores con de la funcion: [%d, %d]\" % (v1,v2))"
   ]
  },
  {
   "cell_type": "markdown",
   "metadata": {},
   "source": [
    "<div style=\"text-align:center\">   \n",
    "   $\n",
    "       \\begin{split}\n",
    "           f{(x)}=\\begin{cases}\n",
    "               f(1.14)~ = & \\mathbf{-4}\\\\\n",
    "               f(-4.6405)~ = & \\mathbf{14}\n",
    "           \\end{cases}\n",
    "       \\end{split}\n",
    "   $\n",
    "</div>\n",
    "   Con ello, determinamos que la mejor alternativa es la de la segunda raíz para calcular el punto $x^{(1)}=1.14$ y hacemos $k \\leftarrow k+1$ . "
   ]
  },
  {
   "cell_type": "code",
   "execution_count": 74,
   "metadata": {
    "collapsed": false
   },
   "outputs": [
    {
     "data": {
      "image/png": "[encoded data removed]",
      "text/plain": [
       "<Figure size 432x288 with 1 Axes>"
      ]
     },
     "metadata": {
      "needs_background": "light"
     },
     "output_type": "display_data"
    }
   ],
   "source": [
    "pp.plot(x2,y2,'r')\n",
    "pp.plot(1.14,fx2(1.14),'bo')\n",
    "pp.grid(True)\n",
    "pp.show()"
   ]
  },
  {
   "cell_type": "code",
   "execution_count": 66,
   "metadata": {
    "collapsed": false
   },
   "outputs": [
    {
     "name": "stdout",
     "output_type": "stream",
     "text": [
      "Derivada de la funcion:  0.566037735849057*x**2 + 2*x - 3\n",
      "Valor en x^(1): 0.566037735849057*x**2 + 2.0*x - 3.0\n"
     ]
    }
   ],
   "source": [
    "x1 = 1.14\n",
    "print(\"Derivada de la funcion: \",r)\n",
    "print(\"Valor en x^(1):\",r.subs(x,x1).evalf())"
   ]
  },
  {
   "cell_type": "markdown",
   "metadata": {},
   "source": [
    "#### Segunda Interaccion\n",
    "$\\nabla f(x^{(1)}) = 0.016$\n",
    "\n",
    " <div style=\"text-align:center\">\n",
    "     $\\theta(t) = f(x^{(1)})-t \\nabla f(x^{(1)})$.\n",
    " </div> \n",
    " \n",
    " <div style=\"text-align:center\">\n",
    "    <br />$\\theta^{'}(t)=-\\nabla f\\left( x^{(1)} - t \\nabla f(x^{(1)} \\right) \\nabla f(x^{(1)})$\n",
    "    <br />$=-\\nabla f\\left( \\mathbf(1.14)-t \\nabla f(x^{1}) \\right) \\nabla f(x^{(1)})$\n",
    "    <br />$=-\\nabla f\\left( \\mathbf(1.14)-0.016\\cdot t \\right) 0.016$\n",
    " </div> \n",
    " \\_       \n",
    "   En este punto, sustituimos $(1.14-0.016\\cdot t)$ por $x$ en la función a minimizar que derivamos previamente $f^{'}(x) = 0.57x^{2}+2x-3$:\n",
    "   \n",
    "<div style=\"text-align:center\">\n",
    "    <br />$=-\\left( 0.57\\cdot(1.14-0.016t)^{2}+2 \\cdot (1.14-0.016t)-3 \\right)\\cdot 0.016$\n",
    "</div>\n",
    "\n",
    "   Aplicamos factoreo a la ecuación y calculamos las raíces:"
   ]
  },
  {
   "cell_type": "code",
   "execution_count": 75,
   "metadata": {
    "collapsed": false
   },
   "outputs": [
    {
     "name": "stdout",
     "output_type": "stream",
     "text": [
      "-0.00014592*x**2 + 0.0527936*x - 0.0207719999999997\n",
      "Raices de la ecuacion: [0.393885601377983, 361.404360012657]\n"
     ]
    }
   ],
   "source": [
    "# Ingresamos la funcion en sympy y buscamos las raices:\n",
    "fp=-((0.57*(1.14-0.016*x)**2+2*(1.14-0.016*x)-3))\n",
    "print(fp.expand())\n",
    "\n",
    "print(\"Raices de la ecuacion:\" ,solve(fp))"
   ]
  },
  {
   "cell_type": "markdown",
   "metadata": {},
   "source": [
    "No realizamos la multiplicación por $0.016$ ya que luego se igualará a $0$, con ello tenemos lo siguiente:\n",
    "   \n",
    "<div style=\"text-align:center\">\n",
    "    <br />$=-\\left( -0.00014x^{2}+0.052x-0.020 \\right)\\cdot 0.016$\n",
    "</div>\n",
    "\n",
    "   Y las raíces de la ecuación representarán 2 posibles valores para $t^{*}_{1}$:\n",
    "\n",
    "<div style=\"text-align:center\">\n",
    "    <br />$\\left[ 0.393, 361.40 \\right]$\n",
    "</div>\n",
    "\n",
    "   Con ello, calculamos los dos posibles puntos $x^{(1)}$ y determinamos con cuál de los 2 se minimiza de mejor forma la función:\n",
    "\n",
    "<div style=\"text-align:center\">   \n",
    "   $\n",
    "       \\begin{split}\n",
    "           x^{(1)}=\\begin{cases}\n",
    "               1.14-0.393\\cdot 0.016~ = & \\mathbf{1.133}\\\\\n",
    "               5.3-361.40\\cdot 0.016~ = & \\mathbf{-4.6424}\n",
    "           \\end{cases}\n",
    "       \\end{split}\n",
    "   $\n",
    "</div>\n",
    "\n",
    "   De igual forma, evaluamos la función original con los dos nuevos puntos $x^{(1)}$ y en base a ello determinamos cuál es el que minimiza de mejor manera su valor:"
   ]
  },
  {
   "cell_type": "code",
   "execution_count": 57,
   "metadata": {
    "collapsed": false
   },
   "outputs": [
    {
     "name": "stdout",
     "output_type": "stream",
     "text": [
      "Valores con de la funcion: [-4, 14]\n"
     ]
    }
   ],
   "source": [
    "v1=fx.subs(x,1.133).evalf()\n",
    "v2=fx.subs(x,-4.6424).evalf()\n",
    "\n",
    "print(\"Valores con de la funcion: [%d, %d]\" % (v1,v2))"
   ]
  },
  {
   "cell_type": "code",
   "execution_count": 58,
   "metadata": {
    "collapsed": false
   },
   "outputs": [
    {
     "data": {
      "image/png": "[encoded data removed]",
      "text/plain": [
       "<Figure size 432x288 with 1 Axes>"
      ]
     },
     "metadata": {
      "needs_background": "light"
     },
     "output_type": "display_data"
    }
   ],
   "source": [
    "pp.plot(x2,y2,'r')\n",
    "pp.plot(1.133,fx2(1.133),'bo')\n",
    "pp.grid(True)\n",
    "pp.show()"
   ]
  },
  {
   "cell_type": "code",
   "execution_count": 59,
   "metadata": {
    "collapsed": false
   },
   "outputs": [
    {
     "name": "stdout",
     "output_type": "stream",
     "text": [
      "Derivada de la funcion:  0.566037735849057*x**2 + 2*x - 3\n",
      "Valor en x^(1): -0.00738358490566016\n"
     ]
    }
   ],
   "source": [
    "x2 = 1.133\n",
    "print(\"Derivada de la funcion: \",r)\n",
    "print(\"Valor en x^(1):\",r.subs(x,x2).evalf())"
   ]
  },
  {
   "cell_type": "markdown",
   "metadata": {},
   "source": [
    "#### Tercera Interaccion\n",
    "$\\nabla f(x^{(2)}) = 0.0074$\n",
    "\n",
    " <div style=\"text-align:center\">\n",
    "     $\\theta(t) = f(x^{(2)})-t \\nabla f(x^{(2)})$.\n",
    " </div> \n",
    " \n",
    " <div style=\"text-align:center\">\n",
    "    <br />$\\theta^{'}(t)=-\\nabla f\\left( x^{(2)} - t \\nabla f(x^{(2)} \\right) \\nabla f(x^{(2)})$\n",
    "    <br />$=-\\nabla f\\left( \\mathbf(1.133)-t \\nabla f(x^{1}) \\right) \\nabla f(x^{(1)})$\n",
    "    <br />$=-\\nabla f\\left( \\mathbf(1.133)-0.0074\\cdot t \\right) 0.016$\n",
    " </div> \n",
    " \\_       \n",
    "   En este punto, sustituimos $(1.133-0.0074\\cdot t)$ por $x$ en la función a minimizar que derivamos previamente $f^{'}(x) = 0.57x^{2}+2x-3$:\n",
    "   \n",
    "<div style=\"text-align:center\">\n",
    "    <br />$=-\\left( 0.57\\cdot(1.133-0.0074t)^{2}+2 \\cdot (1.133-0.0074t)-3 \\right)\\cdot 0.0074$\n",
    "</div>\n",
    "\n",
    "   Aplicamos factoreo a la ecuación y calculamos las raíces:"
   ]
  },
  {
   "cell_type": "code",
   "execution_count": 60,
   "metadata": {
    "collapsed": false
   },
   "outputs": [
    {
     "name": "stdout",
     "output_type": "stream",
     "text": [
      "-3.12132e-5*x**2 + 0.024357988*x + 0.00229727000000002\n",
      "Raices de la ecuacion: [-0.0943014024259826, 780.468886513853]\n"
     ]
    }
   ],
   "source": [
    "# Ingresamos la funcion en sympy y buscamos las raices:\n",
    "fp=-((0.57*(1.133-0.0074*x)**2+2*(1.133-0.0074*x)-3))\n",
    "print(fp.expand())\n",
    "\n",
    "print(\"Raices de la ecuacion:\" ,solve(fp))"
   ]
  },
  {
   "cell_type": "markdown",
   "metadata": {},
   "source": [
    "No realizamos la multiplicación por $0.0074$ ya que luego se igualará a $0$, con ello tenemos lo siguiente:\n",
    "   \n",
    "<div style=\"text-align:center\">\n",
    "    <br />$=-\\left( -0.000003121x^{2}+0.02435x-0.0022 \\right)\\cdot 0.0074$\n",
    "</div>\n",
    "\n",
    "   Y las raíces de la ecuación representarán 2 posibles valores para $t^{*}_{1}$:\n",
    "\n",
    "<div style=\"text-align:center\">\n",
    "    <br />$\\left[ 0.0943, 780.47 \\right]$\n",
    "</div>\n",
    "\n",
    "   Con ello, calculamos los dos posibles puntos $x^{(1)}$ y determinamos con cuál de los 2 se minimiza de mejor forma la función:\n",
    "\n",
    "<div style=\"text-align:center\">   \n",
    "   $\n",
    "       \\begin{split}\n",
    "           x^{(1)}=\\begin{cases}\n",
    "               1.133-(-0.094)\\cdot 0.0074~ = & \\mathbf{1.1336956}\\\\\n",
    "               5.3-780.47\\cdot 0.0074~ = & \\mathbf{-4.642478}\n",
    "           \\end{cases}\n",
    "       \\end{split}\n",
    "   $\n",
    "</div>\n",
    "\n",
    "   De igual forma, evaluamos la función original con los dos nuevos puntos $x^{(1)}$ y en base a ello determinamos cuál es el que minimiza de mejor manera su valor:"
   ]
  },
  {
   "cell_type": "code",
   "execution_count": 62,
   "metadata": {
    "collapsed": false
   },
   "outputs": [
    {
     "name": "stdout",
     "output_type": "stream",
     "text": [
      "Valores con de la funcion: [-4, 14]\n"
     ]
    }
   ],
   "source": [
    "v1=fx.subs(x,1.1336956).evalf()\n",
    "v2=fx.subs(x,-4.642478).evalf()\n",
    "\n",
    "print(\"Valores con de la funcion: [%d, %d]\" % (v1,v2))"
   ]
  },
  {
   "cell_type": "code",
   "execution_count": 76,
   "metadata": {
    "collapsed": false
   },
   "outputs": [
    {
     "data": {
      "image/png": "[encoded data removed]",
      "text/plain": [
       "<Figure size 432x288 with 1 Axes>"
      ]
     },
     "metadata": {
      "needs_background": "light"
     },
     "output_type": "display_data"
    }
   ],
   "source": [
    "pp.plot(x2,y2,'r')\n",
    "pp.plot(1.133,fx2(1.133),'bo')\n",
    "pp.grid(True)\n",
    "pp.show()"
   ]
  },
  {
   "cell_type": "code",
   "execution_count": null,
   "metadata": {
    "collapsed": true
   },
   "outputs": [],
   "source": []
  }
 ],
 "metadata": {
  "kernelspec": {
   "display_name": "python 3.4-ia2",
   "language": "python",
   "name": "ia2"
  },
  "language_info": {
   "codemirror_mode": {
    "name": "ipython",
    "version": 3
   },
   "file_extension": ".py",
   "mimetype": "text/x-python",
   "name": "python",
   "nbconvert_exporter": "python",
   "pygments_lexer": "ipython3",
   "version": "3.7.3"
  }
 },
 "nbformat": 4,
 "nbformat_minor": 2
}
